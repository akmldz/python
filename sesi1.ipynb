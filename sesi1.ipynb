{
  "nbformat": 4,
  "nbformat_minor": 0,
  "metadata": {
    "colab": {
      "provenance": []
    },
    "kernelspec": {
      "name": "python3",
      "display_name": "Python 3"
    },
    "language_info": {
      "name": "python"
    }
  },
  "cells": [
    {
      "cell_type": "code",
      "execution_count": null,
      "metadata": {
        "colab": {
          "base_uri": "https://localhost:8080/"
        },
        "id": "2XoyLzJmjqbv",
        "outputId": "6f469772-c4ae-49a1-879d-4de975656a37"
      },
      "outputs": [
        {
          "output_type": "stream",
          "name": "stdout",
          "text": [
            "Hello\n"
          ]
        }
      ],
      "source": [
        "print (\"Hello\")"
      ]
    },
    {
      "cell_type": "code",
      "source": [
        "import time\n",
        "\n",
        "print(time.ctime())"
      ],
      "metadata": {
        "colab": {
          "base_uri": "https://localhost:8080/"
        },
        "id": "jm0hWY4Hki8j",
        "outputId": "e208d8ae-7c84-4574-8628-14fbfb39a6c9"
      },
      "execution_count": null,
      "outputs": [
        {
          "output_type": "stream",
          "name": "stdout",
          "text": [
            "Thu Feb  6 04:44:57 2025\n"
          ]
        }
      ]
    },
    {
      "cell_type": "code",
      "source": [
        "z = \"Hello\"\n",
        "y = 28\n",
        "c = 29.5\n",
        "f = [\"Apple, Rambutan\"]\n",
        "\n",
        "z, y, c, f\n",
        "print(z, y, c, f)"
      ],
      "metadata": {
        "colab": {
          "base_uri": "https://localhost:8080/"
        },
        "id": "CHomWibGk16g",
        "outputId": "2f915375-7016-4001-9062-8de8e71b6942"
      },
      "execution_count": null,
      "outputs": [
        {
          "output_type": "stream",
          "name": "stdout",
          "text": [
            "Hello 28 29.5 ['Apple, Rambutan']\n"
          ]
        }
      ]
    },
    {
      "cell_type": "code",
      "source": [
        "o = int(1)\n",
        "y = int(2.8)\n",
        "z = int(\"4\")\n",
        "j = str(20)\n",
        "\n",
        "print(o, y, z, j)"
      ],
      "metadata": {
        "colab": {
          "base_uri": "https://localhost:8080/"
        },
        "id": "Q9gbR9yalIcx",
        "outputId": "4bfb0bd0-8cd6-444b-c3a5-0f5053173c14"
      },
      "execution_count": null,
      "outputs": [
        {
          "output_type": "stream",
          "name": "stdout",
          "text": [
            "1 2 4 20\n"
          ]
        }
      ]
    },
    {
      "cell_type": "code",
      "source": [
        "a = \"hello\"\n",
        "b = \" world\"\n",
        "c = a+b\n",
        "\n",
        "print(c)"
      ],
      "metadata": {
        "colab": {
          "base_uri": "https://localhost:8080/"
        },
        "id": "9naDAgROlw9m",
        "outputId": "3349657a-80b5-4d2c-ca0d-ad501bef3bfe"
      },
      "execution_count": null,
      "outputs": [
        {
          "output_type": "stream",
          "name": "stdout",
          "text": [
            "hello world\n"
          ]
        }
      ]
    },
    {
      "cell_type": "code",
      "source": [
        "a = \"Hello World\"\n",
        "\n",
        "print(a[1])\n",
        "\n",
        "print(len(a))"
      ],
      "metadata": {
        "colab": {
          "base_uri": "https://localhost:8080/"
        },
        "id": "4wFnqYaXmClj",
        "outputId": "4b97cefa-4e9f-4128-9186-79b13368b6a9"
      },
      "execution_count": null,
      "outputs": [
        {
          "output_type": "stream",
          "name": "stdout",
          "text": [
            "e\n",
            "11\n"
          ]
        }
      ]
    },
    {
      "cell_type": "code",
      "source": [
        "b = \"BINUS Univ\"\n",
        "print(b[2:5])\n",
        "\n",
        "c = \"BINUS Univ\"\n",
        "print(c[:5])\n",
        "\n",
        "d = \"BINUS Univ\"\n",
        "print(d[2:])"
      ],
      "metadata": {
        "colab": {
          "base_uri": "https://localhost:8080/"
        },
        "id": "cK7t6Zs3msjy",
        "outputId": "5716ca00-a351-4e1e-a2f6-b5030af16808"
      },
      "execution_count": null,
      "outputs": [
        {
          "output_type": "stream",
          "name": "stdout",
          "text": [
            "NUS\n",
            "BINUS\n",
            "NUS Univ\n"
          ]
        }
      ]
    },
    {
      "cell_type": "code",
      "source": [
        "a = \"Hello\"\n",
        "print(a.upper())\n",
        "\n",
        "b = \"Hello\"\n",
        "print(b.lower())\n",
        "\n",
        "c = \"Hello\"\n",
        "print(a.replace(\"H\", \"J\"))"
      ],
      "metadata": {
        "colab": {
          "base_uri": "https://localhost:8080/"
        },
        "id": "ewAWEs7_nlGi",
        "outputId": "f3cb4265-9373-46ba-c7c0-b524ce6859ae"
      },
      "execution_count": null,
      "outputs": [
        {
          "output_type": "stream",
          "name": "stdout",
          "text": [
            "HELLO\n",
            "hello\n",
            "Jello\n"
          ]
        }
      ]
    },
    {
      "cell_type": "code",
      "source": [
        "nama = \"sam\"\n",
        "a = 19\n",
        "string = \"nama saya {} umur {}\"\n",
        "print(string.format(nama,a))"
      ],
      "metadata": {
        "colab": {
          "base_uri": "https://localhost:8080/"
        },
        "id": "Mz2Et-WkoHGv",
        "outputId": "803b501b-08c8-4774-e9c0-45e4c353bbf2"
      },
      "execution_count": null,
      "outputs": [
        {
          "output_type": "stream",
          "name": "stdout",
          "text": [
            "nama saya sam umur 19\n"
          ]
        }
      ]
    },
    {
      "cell_type": "code",
      "source": [],
      "metadata": {
        "id": "G_o9jitqpptw"
      },
      "execution_count": null,
      "outputs": []
    },
    {
      "cell_type": "code",
      "source": [
        "nama = \"Grace\"\n",
        "for i in enumerate(nama):\n",
        "  print(i)"
      ],
      "metadata": {
        "colab": {
          "base_uri": "https://localhost:8080/"
        },
        "id": "aulnOmmRpB8Y",
        "outputId": "71b661dd-cdfb-4bd8-83a5-3bec9a5ddcb1"
      },
      "execution_count": null,
      "outputs": [
        {
          "output_type": "stream",
          "name": "stdout",
          "text": [
            "(0, 'G')\n",
            "(1, 'r')\n",
            "(2, 'a')\n",
            "(3, 'c')\n",
            "(4, 'e')\n"
          ]
        }
      ]
    },
    {
      "cell_type": "code",
      "source": [
        "def perbandingan (a,b):\n",
        "  if a>b:\n",
        "    print(\"a lebih dari b\")\n",
        "  elif a<b:\n",
        "    print(\"a kurang dari b\")\n",
        "  else:\n",
        "    print(\"a=b\")"
      ],
      "metadata": {
        "id": "E8AK5zhzj8rJ"
      },
      "execution_count": null,
      "outputs": []
    },
    {
      "cell_type": "code",
      "source": [
        "perbandingan (3,7)"
      ],
      "metadata": {
        "colab": {
          "base_uri": "https://localhost:8080/"
        },
        "id": "zAfRndezq0Gg",
        "outputId": "4372b87d-7933-4775-db19-f8cfb183ecc4"
      },
      "execution_count": null,
      "outputs": [
        {
          "output_type": "stream",
          "name": "stdout",
          "text": [
            "a kurang dari b\n"
          ]
        }
      ]
    },
    {
      "cell_type": "code",
      "source": [
        "i=1\n",
        "while i<6:\n",
        "  print(1)\n",
        "  i += 1"
      ],
      "metadata": {
        "colab": {
          "base_uri": "https://localhost:8080/"
        },
        "id": "Mg8_gHylq7-E",
        "outputId": "a0301c73-e2cb-4dad-c7a7-ae515b58e130"
      },
      "execution_count": null,
      "outputs": [
        {
          "output_type": "stream",
          "name": "stdout",
          "text": [
            "1\n",
            "1\n",
            "1\n",
            "1\n",
            "1\n"
          ]
        }
      ]
    },
    {
      "cell_type": "code",
      "source": [
        "i=3\n",
        "for i in range(0,6):\n",
        "  print(i)"
      ],
      "metadata": {
        "colab": {
          "base_uri": "https://localhost:8080/"
        },
        "id": "O14bh2DCrTyG",
        "outputId": "6e1c5bde-9d9c-43c9-a3bc-3987048cba59"
      },
      "execution_count": null,
      "outputs": [
        {
          "output_type": "stream",
          "name": "stdout",
          "text": [
            "0\n",
            "1\n",
            "2\n",
            "3\n",
            "4\n",
            "5\n"
          ]
        }
      ]
    },
    {
      "cell_type": "code",
      "source": [
        "angka = int(input(\"Masukan angka:\"))\n",
        "\n",
        "if 2 >= angka <= 40:\n",
        "  if angka %2==0:\n",
        "    print(\"angka genap\")\n",
        "  else:\n",
        "    print(\"angka ganjil\")"
      ],
      "metadata": {
        "colab": {
          "base_uri": "https://localhost:8080/"
        },
        "id": "GYSy7WVMtEXr",
        "outputId": "de53fe8f-dd73-4b04-d5d7-273cb158aada"
      },
      "execution_count": null,
      "outputs": [
        {
          "name": "stdout",
          "output_type": "stream",
          "text": [
            "Masukan angka:7\n"
          ]
        }
      ]
    },
    {
      "cell_type": "code",
      "source": [
        "import numpy as np"
      ],
      "metadata": {
        "id": "jDvWxk7oySTb"
      },
      "execution_count": null,
      "outputs": []
    },
    {
      "cell_type": "code",
      "source": [
        "x = np.array([[1, 2 ,3], [3, 6, 7]])\n",
        "x"
      ],
      "metadata": {
        "colab": {
          "base_uri": "https://localhost:8080/"
        },
        "id": "DARXM6pBvU3I",
        "outputId": "72737a4c-8bf6-4890-b467-cbf7563c9063"
      },
      "execution_count": null,
      "outputs": [
        {
          "output_type": "execute_result",
          "data": {
            "text/plain": [
              "array([[1, 2, 3],\n",
              "       [3, 6, 7]])"
            ]
          },
          "metadata": {},
          "execution_count": 4
        }
      ]
    },
    {
      "cell_type": "code",
      "source": [
        "y = np.array([[8, 2, 9], [3, 5, 7]])\n",
        "y"
      ],
      "metadata": {
        "colab": {
          "base_uri": "https://localhost:8080/"
        },
        "id": "FVm6S5Vavzy3",
        "outputId": "514a5058-0ea5-44f5-e2b7-b0dd1c981202"
      },
      "execution_count": null,
      "outputs": [
        {
          "output_type": "execute_result",
          "data": {
            "text/plain": [
              "array([[8, 2, 9],\n",
              "       [3, 5, 7]])"
            ]
          },
          "metadata": {},
          "execution_count": 7
        }
      ]
    },
    {
      "cell_type": "code",
      "source": [
        "print(x+y)"
      ],
      "metadata": {
        "colab": {
          "base_uri": "https://localhost:8080/"
        },
        "id": "htIRQh0OwHln",
        "outputId": "9f2337d1-2447-4daf-ccaa-0cfb2d2a499f"
      },
      "execution_count": null,
      "outputs": [
        {
          "output_type": "stream",
          "name": "stdout",
          "text": [
            "[[ 9  4 12]\n",
            " [ 6 11 14]]\n"
          ]
        }
      ]
    },
    {
      "cell_type": "code",
      "source": [
        "data = np.array ([10, 9, 8, 7, 5, 6])\n",
        "\n",
        "print(\"Rata-rata:\", np.mean(data))\n",
        "print(\"Maksimum:\", np.max(data))\n",
        "print(\"Minimum\", np.min(data))\n",
        "print(\"Standar Deviasi:\", np.std(data))"
      ],
      "metadata": {
        "colab": {
          "base_uri": "https://localhost:8080/"
        },
        "id": "VPV42eF0wvy_",
        "outputId": "0b9f4ee2-7ba6-4ffa-9876-5e7b63fa7041"
      },
      "execution_count": null,
      "outputs": [
        {
          "output_type": "stream",
          "name": "stdout",
          "text": [
            "Rata-rata: 7.5\n",
            "Maksimum: 10\n",
            "Minimum 5\n",
            "Standar Deviasi: 1.707825127659933\n"
          ]
        }
      ]
    },
    {
      "cell_type": "code",
      "source": [
        "def calculate(UAS, UTS, ASG):\n",
        "    return (UAS * 0.5) + (UTS * 0.3) + (ASG * 0.2)\n",
        "\n",
        "def grading(final_score):\n",
        "    if 90 <= final_score <= 100:\n",
        "        return \"A\"\n",
        "    elif 85 <= final_score <= 89:\n",
        "        return \"A-\"\n",
        "    elif 80 <= final_score <= 84:\n",
        "        return \"B+\"\n",
        "    elif 75 <= final_score <= 79:\n",
        "        return \"B\"\n",
        "    elif 70 <= final_score <= 74:\n",
        "        return \"B-\"\n",
        "    elif 65 <= final_score <= 69:\n",
        "        return \"C\"\n",
        "    elif 60 <= final_score <= 64:\n",
        "        return \"D\"\n",
        "    elif 11 <= final_score <= 59:\n",
        "        return \"E\"\n",
        "    else:\n",
        "        return \"F\"\n",
        "\n",
        "while True:\n",
        "    username = input(\"Masukkan username: \")\n",
        "    password = input(\"Masukkan password: \")\n",
        "    if password == \"admin123\":\n",
        "        print(\"Login berhasil!\\n\")\n",
        "        break\n",
        "    else:\n",
        "        print(\"Password salah! Coba lagi.\\n\")\n",
        "\n",
        "nama = input(\"Masukkan nama mahasiswa: \")\n",
        "\n",
        "def input_nilai(prompt):\n",
        "    while True:\n",
        "        try:\n",
        "            nilai = float(input(prompt))\n",
        "            if 0 <= nilai <= 100:\n",
        "                return nilai\n",
        "            else:\n",
        "                print(\"Nilai harus antara 0 - 100.\")\n",
        "        except ValueError:\n",
        "            print(\"Harap masukkan angka yang valid.\")\n",
        "\n",
        "UAS = input_nilai(\"Masukkan nilai UAS: \")\n",
        "UTS = input_nilai(\"Masukkan nilai UTS: \")\n",
        "ASG = input_nilai(\"Masukkan nilai ASG: \")\n",
        "\n",
        "final_score = calculate(UAS, UTS, ASG)\n",
        "grade = grading(final_score)\n",
        "\n",
        "print(\"\\n============================================\")\n",
        "print(f\"Hasil perolehan nilai {nama}\")\n",
        "print(f\"Final Score: {final_score:.2f}\")\n",
        "print(f\"Grade: {grade}\")\n"
      ],
      "metadata": {
        "id": "m_Tcv5v03u_u"
      },
      "execution_count": null,
      "outputs": []
    }
  ]
}