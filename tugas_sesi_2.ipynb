{
  "nbformat": 4,
  "nbformat_minor": 0,
  "metadata": {
    "colab": {
      "provenance": [],
      "authorship_tag": "ABX9TyOdTYPW6OKkQQ3oQnub5a9M",
      "include_colab_link": true
    },
    "kernelspec": {
      "name": "python3",
      "display_name": "Python 3"
    },
    "language_info": {
      "name": "python"
    }
  },
  "cells": [
    {
      "cell_type": "markdown",
      "metadata": {
        "id": "view-in-github",
        "colab_type": "text"
      },
      "source": [
        "<a href=\"https://colab.research.google.com/github/akmldz/python/blob/main/tugas_sesi_2.ipynb\" target=\"_parent\"><img src=\"https://colab.research.google.com/assets/colab-badge.svg\" alt=\"Open In Colab\"/></a>"
      ]
    },
    {
      "cell_type": "code",
      "execution_count": 23,
      "metadata": {
        "colab": {
          "base_uri": "https://localhost:8080/"
        },
        "id": "Q2QGiRELuK95",
        "outputId": "f9e18bea-fe25-40b5-97aa-31e3a006520d"
      },
      "outputs": [
        {
          "output_type": "stream",
          "name": "stdout",
          "text": [
            "Max iterations reached.\n",
            "Hasil solusi Gauss-Seidel untuk sistem pertama: [-1804561376885707776 -5413684130657160192 -2205691681738107904]\n",
            "Hasil menggunakan NumPy untuk sistem pertama: [0.65 4.15 3.75]\n"
          ]
        },
        {
          "output_type": "stream",
          "name": "stderr",
          "text": [
            "<ipython-input-23-d15ae1bdff19>:13: RuntimeWarning: overflow encountered in scalar subtract\n",
            "  x_new[i] = (b[i] - sum1 - sum2) / A[i, i]\n"
          ]
        }
      ],
      "source": [
        "import numpy as np\n",
        "\n",
        "def gauss_seidel(A, b, x0, tolerance=0.001, max_iterations=1000):\n",
        "    n = len(A)\n",
        "    x = np.copy(x0)\n",
        "\n",
        "    for k in range(max_iterations):\n",
        "        x_new = np.copy(x)\n",
        "\n",
        "        for i in range(n):\n",
        "            sum1 = np.dot(A[i, :i], x_new[:i])\n",
        "            sum2 = np.dot(A[i, i+1:], x[i+1:])\n",
        "            x_new[i] = (b[i] - sum1 - sum2) / A[i, i]\n",
        "\n",
        "        error = np.linalg.norm(x_new - x, ord=np.inf)\n",
        "        x = np.copy(x_new)\n",
        "\n",
        "        if error < tolerance:\n",
        "            print(f'Converged in {k+1} iterations.')\n",
        "            return x\n",
        "    print('Max iterations reached.')\n",
        "    return x\n",
        "\n",
        "A1 = np.array([[2, 3, -1],\n",
        "               [1, -1, 2],\n",
        "               [3, 2, 1]])\n",
        "\n",
        "b1 = np.array([10, 4, 14])\n",
        "x0_1 = np.array([5, 5, 5])\n",
        "\n",
        "x1 = gauss_seidel(A1, b1, x0_1)\n",
        "print(f'Hasil solusi Gauss-Seidel untuk sistem pertama: {x1}')\n",
        "\n",
        "x1_numpy = np.linalg.solve(A1, b1)\n",
        "print(f'Hasil menggunakan NumPy untuk sistem pertama: {x1_numpy}')\n"
      ]
    },
    {
      "cell_type": "code",
      "source": [
        "A2 = np.array([[3, -0.1, -0.2],\n",
        "               [0.1, 7, -0.3],\n",
        "               [0.3, -0.2, 10]])\n",
        "\n",
        "b2 = np.array([7.85, -19.3, 71.4])\n",
        "x0_2 = np.array([1, 2, 3])\n",
        "\n",
        "x2 = gauss_seidel(A2, b2, x0_2)\n",
        "print(f'Hasil solusi Gauss-Seidel untuk sistem kedua: {x2}')\n",
        "\n",
        "x2_numpy = np.linalg.solve(A2, b2)\n",
        "print(f'Hasil menggunakan NumPy untuk sistem kedua: {x1_numpy}')"
      ],
      "metadata": {
        "colab": {
          "base_uri": "https://localhost:8080/"
        },
        "id": "Grx01cpNvmzb",
        "outputId": "90d5e5e6-3b69-4563-9b77-3b8569cbe986"
      },
      "execution_count": 26,
      "outputs": [
        {
          "output_type": "stream",
          "name": "stdout",
          "text": [
            "Converged in 3 iterations.\n",
            "Hasil solusi Gauss-Seidel untuk sistem kedua: [ 3 -2  7]\n",
            "Hasil menggunakan NumPy untuk sistem kedua: [0.65 4.15 3.75]\n"
          ]
        }
      ]
    },
    {
      "cell_type": "code",
      "source": [
        "import matplotlib.pyplot as plt\n",
        "\n",
        "X = np.array([5, 4, 6, 7, 5])\n",
        "Y = np.array([10, 8, 12, 14, 10])\n",
        "\n",
        "X_ = np.vstack([X, np.ones(len(X))]).T\n",
        "\n",
        "a, b = np.linalg.lstsq(X_, Y, rcond=None)[0]\n",
        "print(f'Nilai a: {a}, b: {b}')\n",
        "\n",
        "plt.scatter(X, Y, color='red', label='Data')\n",
        "plt.plot(X, a*X + b, label=f'Regresi Linear: y = {a:.2f}x + {b:.2f}')\n",
        "plt.xlabel('X')\n",
        "plt.ylabel('Y')\n",
        "plt.legend()\n",
        "plt.show()"
      ],
      "metadata": {
        "colab": {
          "base_uri": "https://localhost:8080/",
          "height": 467
        },
        "id": "oBXPN7rivtyr",
        "outputId": "efaa78e5-6939-41ba-8842-362db3a3b6d4"
      },
      "execution_count": 27,
      "outputs": [
        {
          "output_type": "stream",
          "name": "stdout",
          "text": [
            "Nilai a: 1.9999999999999993, b: 2.8656992807871078e-15\n"
          ]
        },
        {
          "output_type": "display_data",
          "data": {
            "text/plain": [
              "<Figure size 640x480 with 1 Axes>"
            ],
            "image/png": "[encoded data removed]"
          },
          "metadata": {}
        }
      ]
    }
  ]
}